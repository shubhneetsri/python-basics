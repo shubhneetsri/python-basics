## Numpy array and basics

import numpy as np

arr_1d = np.array([1,2,3,4,5])
print("1D array: ", arr_1d)

arr_2d = np.array([[1,2,3,4,5],[7,8,9,0,-1]])
print("2D array: ", arr_2d)